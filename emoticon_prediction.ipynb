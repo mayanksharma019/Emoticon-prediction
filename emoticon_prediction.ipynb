{
 "cells": [
  {
   "cell_type": "code",
   "execution_count": 1,
   "metadata": {},
   "outputs": [
    {
     "name": "stdout",
     "output_type": "stream",
     "text": [
      "Collecting emoji\n",
      "  Downloading https://files.pythonhosted.org/packages/24/fa/b3368f41b95a286f8d300e323449ab4e86b85334c2e0b477e94422b8ed0f/emoji-1.2.0-py3-none-any.whl (131kB)\n",
      "Installing collected packages: emoji\n",
      "Successfully installed emoji-1.2.0\n"
     ]
    }
   ],
   "source": [
    "!pip install emoji"
   ]
  },
  {
   "cell_type": "code",
   "execution_count": 2,
   "metadata": {},
   "outputs": [],
   "source": [
    "# importing libraries required.\n",
    "\n",
    "import numpy as np\n",
    "import pandas as pd\n",
    "import emoji\n",
    "\n",
    "from keras.models import Sequential\n",
    "from keras.layers import Dense, Input, Dropout, SimpleRNN,LSTM, Activation\n",
    "from keras.utils import np_utils\n",
    "\n",
    "import matplotlib.pyplot as plt"
   ]
  },
  {
   "cell_type": "code",
   "execution_count": 3,
   "metadata": {},
   "outputs": [],
   "source": [
    "# reading the csv files (train and test)\n",
    "\n",
    "train = pd.read_csv('train_emoji.csv',header=None)\n",
    "test = pd.read_csv('test_emoji.csv',header=None)"
   ]
  },
  {
   "cell_type": "code",
   "execution_count": 5,
   "metadata": {},
   "outputs": [
    {
     "data": {
      "text/html": [
       "<div>\n",
       "<style scoped>\n",
       "    .dataframe tbody tr th:only-of-type {\n",
       "        vertical-align: middle;\n",
       "    }\n",
       "\n",
       "    .dataframe tbody tr th {\n",
       "        vertical-align: top;\n",
       "    }\n",
       "\n",
       "    .dataframe thead th {\n",
       "        text-align: right;\n",
       "    }\n",
       "</style>\n",
       "<table border=\"1\" class=\"dataframe\">\n",
       "  <thead>\n",
       "    <tr style=\"text-align: right;\">\n",
       "      <th></th>\n",
       "      <th>0</th>\n",
       "      <th>1</th>\n",
       "      <th>2</th>\n",
       "      <th>3</th>\n",
       "    </tr>\n",
       "  </thead>\n",
       "  <tbody>\n",
       "    <tr>\n",
       "      <td>0</td>\n",
       "      <td>never talk to me again</td>\n",
       "      <td>3</td>\n",
       "      <td>NaN</td>\n",
       "      <td>NaN</td>\n",
       "    </tr>\n",
       "    <tr>\n",
       "      <td>1</td>\n",
       "      <td>I am proud of your achievements</td>\n",
       "      <td>2</td>\n",
       "      <td>NaN</td>\n",
       "      <td>NaN</td>\n",
       "    </tr>\n",
       "    <tr>\n",
       "      <td>2</td>\n",
       "      <td>It is the worst day in my life</td>\n",
       "      <td>3</td>\n",
       "      <td>NaN</td>\n",
       "      <td>NaN</td>\n",
       "    </tr>\n",
       "    <tr>\n",
       "      <td>3</td>\n",
       "      <td>Miss you so much</td>\n",
       "      <td>0</td>\n",
       "      <td>NaN</td>\n",
       "      <td>[0]</td>\n",
       "    </tr>\n",
       "    <tr>\n",
       "      <td>4</td>\n",
       "      <td>food is life</td>\n",
       "      <td>4</td>\n",
       "      <td>NaN</td>\n",
       "      <td>NaN</td>\n",
       "    </tr>\n",
       "  </tbody>\n",
       "</table>\n",
       "</div>"
      ],
      "text/plain": [
       "                                 0  1   2     3\n",
       "0           never talk to me again  3 NaN   NaN\n",
       "1  I am proud of your achievements  2 NaN   NaN\n",
       "2   It is the worst day in my life  3 NaN   NaN\n",
       "3                 Miss you so much  0 NaN   [0]\n",
       "4                     food is life  4 NaN   NaN"
      ]
     },
     "execution_count": 5,
     "metadata": {},
     "output_type": "execute_result"
    }
   ],
   "source": [
    "# printing the train and test values\n",
    "\n",
    "train.head()"
   ]
  },
  {
   "cell_type": "code",
   "execution_count": 6,
   "metadata": {},
   "outputs": [
    {
     "data": {
      "text/html": [
       "<div>\n",
       "<style scoped>\n",
       "    .dataframe tbody tr th:only-of-type {\n",
       "        vertical-align: middle;\n",
       "    }\n",
       "\n",
       "    .dataframe tbody tr th {\n",
       "        vertical-align: top;\n",
       "    }\n",
       "\n",
       "    .dataframe thead th {\n",
       "        text-align: right;\n",
       "    }\n",
       "</style>\n",
       "<table border=\"1\" class=\"dataframe\">\n",
       "  <thead>\n",
       "    <tr style=\"text-align: right;\">\n",
       "      <th></th>\n",
       "      <th>0</th>\n",
       "      <th>1</th>\n",
       "    </tr>\n",
       "  </thead>\n",
       "  <tbody>\n",
       "    <tr>\n",
       "      <td>0</td>\n",
       "      <td>I want to eat\\t</td>\n",
       "      <td>4</td>\n",
       "    </tr>\n",
       "    <tr>\n",
       "      <td>1</td>\n",
       "      <td>he did not answer\\t</td>\n",
       "      <td>3</td>\n",
       "    </tr>\n",
       "    <tr>\n",
       "      <td>2</td>\n",
       "      <td>he got a raise\\t</td>\n",
       "      <td>2</td>\n",
       "    </tr>\n",
       "    <tr>\n",
       "      <td>3</td>\n",
       "      <td>she got me a present\\t</td>\n",
       "      <td>0</td>\n",
       "    </tr>\n",
       "    <tr>\n",
       "      <td>4</td>\n",
       "      <td>ha ha ha it was so funny\\t</td>\n",
       "      <td>2</td>\n",
       "    </tr>\n",
       "  </tbody>\n",
       "</table>\n",
       "</div>"
      ],
      "text/plain": [
       "                            0  1\n",
       "0             I want to eat\\t  4\n",
       "1         he did not answer\\t  3\n",
       "2            he got a raise\\t  2\n",
       "3      she got me a present\\t  0\n",
       "4  ha ha ha it was so funny\\t  2"
      ]
     },
     "execution_count": 6,
     "metadata": {},
     "output_type": "execute_result"
    }
   ],
   "source": [
    "\n",
    "test.head()"
   ]
  },
  {
   "cell_type": "code",
   "execution_count": 7,
   "metadata": {},
   "outputs": [],
   "source": [
    "# creating dictionaries for the emojis which we will be using\n",
    "emoji_dict = { 0 : \":heart:\", 1 : \":baseball:\", 2 : \":smile:\", 3 : \":disappointed:\", 4 : \":fork_and_knife:\"}\n"
   ]
  },
  {
   "cell_type": "code",
   "execution_count": 9,
   "metadata": {},
   "outputs": [
    {
     "name": "stdout",
     "output_type": "stream",
     "text": [
      "0 ❤\n",
      "\n",
      "\n",
      "1 ⚾\n",
      "\n",
      "\n",
      "2 😄\n",
      "\n",
      "\n",
      "3 😞\n",
      "\n",
      "\n",
      "4 🍴\n",
      "\n",
      "\n"
     ]
    }
   ],
   "source": [
    "# displaying the emoji_dict with the emojis using emojize\n",
    "\n",
    "for ix in emoji_dict.keys():\n",
    "    print (ix,end=\" \")\n",
    "    print (emoji.emojize(emoji_dict[ix], use_aliases=True))\n",
    "    print(\"\\n\")\n",
    " "
   ]
  },
  {
   "cell_type": "code",
   "execution_count": 10,
   "metadata": {},
   "outputs": [
    {
     "name": "stdout",
     "output_type": "stream",
     "text": [
      "(132,) (132,) (56,) (56,)\n",
      "-------------------------\n",
      "never talk to me again 3\n"
     ]
    }
   ],
   "source": [
    "# Creating training and testing data\n",
    "X_train = train[0]\n",
    "Y_train = train[1]\n",
    "\n",
    "X_test = test[0]\n",
    "Y_test = test[1]\n",
    "\n",
    "print (X_train.shape, Y_train.shape, X_test.shape, Y_test.shape)\n",
    "print (\"-------------------------\")\n",
    "print (X_train[0],Y_train[0])"
   ]
  },
  {
   "cell_type": "code",
   "execution_count": 11,
   "metadata": {},
   "outputs": [
    {
     "name": "stderr",
     "output_type": "stream",
     "text": [
      "C:\\Users\\DELL-PC\\Anaconda3\\lib\\site-packages\\ipykernel_launcher.py:4: SettingWithCopyWarning: \n",
      "A value is trying to be set on a copy of a slice from a DataFrame\n",
      "\n",
      "See the caveats in the documentation: http://pandas.pydata.org/pandas-docs/stable/user_guide/indexing.html#returning-a-view-versus-a-copy\n",
      "  after removing the cwd from sys.path.\n",
      "C:\\Users\\DELL-PC\\Anaconda3\\lib\\site-packages\\ipykernel_launcher.py:7: SettingWithCopyWarning: \n",
      "A value is trying to be set on a copy of a slice from a DataFrame\n",
      "\n",
      "See the caveats in the documentation: http://pandas.pydata.org/pandas-docs/stable/user_guide/indexing.html#returning-a-view-versus-a-copy\n",
      "  import sys\n"
     ]
    }
   ],
   "source": [
    "# splitting the sentences into words from both training and test data.\n",
    "\n",
    "for ix in range(X_train.shape[0]):\n",
    "    X_train[ix] = X_train[ix].split()\n",
    "\n",
    "for ix in range(X_test.shape[0]):\n",
    "    X_test[ix] = X_test[ix].split()\n",
    "    \n",
    "# Converting labels into categorical form\n",
    "Y_train = np_utils.to_categorical(Y_train)"
   ]
  },
  {
   "cell_type": "code",
   "execution_count": 12,
   "metadata": {},
   "outputs": [
    {
     "name": "stdout",
     "output_type": "stream",
     "text": [
      "['never', 'talk', 'to', 'me', 'again'] [0. 0. 0. 1. 0.]\n"
     ]
    }
   ],
   "source": [
    "# Now checking the above conversion by printing train and test data at 0th index\n",
    "print (X_train[0],Y_train[0])"
   ]
  },
  {
   "cell_type": "code",
   "execution_count": 13,
   "metadata": {},
   "outputs": [
    {
     "data": {
      "text/plain": [
       "(array([ 1,  2,  3,  4,  5,  6,  7,  8,  9, 10]),\n",
       " array([ 4,  5, 26, 35, 20, 21, 11,  5,  1,  4], dtype=int64))"
      ]
     },
     "execution_count": 13,
     "metadata": {},
     "output_type": "execute_result"
    }
   ],
   "source": [
    "# To check maximum length of sentence in training data\n",
    "np.unique(np.array([len(ix) for ix in X_train]) , return_counts=True)"
   ]
  },
  {
   "cell_type": "code",
   "execution_count": 14,
   "metadata": {},
   "outputs": [
    {
     "data": {
      "text/plain": [
       "(array([2, 3, 4, 5, 6, 7, 8]),\n",
       " array([ 3, 12, 16, 17,  3,  4,  1], dtype=int64))"
      ]
     },
     "execution_count": 14,
     "metadata": {},
     "output_type": "execute_result"
    }
   ],
   "source": [
    "# To check maximum length of senetence in testing data\n",
    "np.unique(np.array([len(ix) for ix in X_test]) , return_counts=True)"
   ]
  },
  {
   "cell_type": "code",
   "execution_count": 17,
   "metadata": {},
   "outputs": [],
   "source": [
    "# Glove vectors. (convert sentences into embeddings).\n",
    "\n",
    "embeddings_index = {}\n",
    "\n",
    "f = open('glove.6B.50d.txt', encoding='utf-8' )\n",
    "for line in f:\n",
    "    values = line.split()\n",
    "    word = values[0]\n",
    "    coefs = np.asarray(values[1:], dtype='float32')\n",
    "    embeddings_index[word] = coefs\n",
    "f.close()"
   ]
  },
  {
   "cell_type": "code",
   "execution_count": 18,
   "metadata": {},
   "outputs": [
    {
     "data": {
      "text/plain": [
       "(50,)"
      ]
     },
     "execution_count": 18,
     "metadata": {},
     "output_type": "execute_result"
    }
   ],
   "source": [
    "# Checking length of a particular word\n",
    "embeddings_index[\"i\"].shape"
   ]
  },
  {
   "cell_type": "code",
   "execution_count": 19,
   "metadata": {},
   "outputs": [
    {
     "data": {
      "text/plain": [
       "0.35413944721221924"
      ]
     },
     "execution_count": 19,
     "metadata": {},
     "output_type": "execute_result"
    }
   ],
   "source": [
    "from scipy import spatial\n",
    "# Checking cosine similarity of words happy and sad\n",
    "spatial.distance.cosine(embeddings_index[\"love\"], embeddings_index[\"hate\"])"
   ]
  },
  {
   "cell_type": "code",
   "execution_count": 20,
   "metadata": {},
   "outputs": [],
   "source": [
    "# Convert sentences into vectors, (embedding layer output).\n",
    "\n",
    "embedding_matrix_train = np.zeros((X_train.shape[0], 10, 50))  # mostly 10 words in a sentence is there\n",
    "embedding_matrix_test = np.zeros((X_test.shape[0], 10, 50))\n",
    "\n",
    "for ix in range(X_train.shape[0]):\n",
    "    for ij in range(len(X_train[ix])):\n",
    "        embedding_matrix_train[ix][ij] = embeddings_index[X_train[ix][ij].lower()]\n",
    "        \n",
    "for ix in range(X_test.shape[0]):\n",
    "    for ij in range(len(X_test[ix])):\n",
    "        embedding_matrix_test[ix][ij] = embeddings_index[X_test[ix][ij].lower()]"
   ]
  },
  {
   "cell_type": "code",
   "execution_count": 21,
   "metadata": {},
   "outputs": [
    {
     "name": "stdout",
     "output_type": "stream",
     "text": [
      "(132, 10, 50) (56, 10, 50)\n"
     ]
    }
   ],
   "source": [
    "print (embedding_matrix_train.shape, embedding_matrix_test.shape)"
   ]
  },
  {
   "cell_type": "code",
   "execution_count": 22,
   "metadata": {},
   "outputs": [
    {
     "name": "stdout",
     "output_type": "stream",
     "text": [
      "Model: \"sequential\"\n",
      "_________________________________________________________________\n",
      "Layer (type)                 Output Shape              Param #   \n",
      "=================================================================\n",
      "simple_rnn (SimpleRNN)       (None, 10, 64)            7360      \n",
      "_________________________________________________________________\n",
      "dropout (Dropout)            (None, 10, 64)            0         \n",
      "_________________________________________________________________\n",
      "simple_rnn_1 (SimpleRNN)     (None, 64)                8256      \n",
      "_________________________________________________________________\n",
      "dropout_1 (Dropout)          (None, 64)                0         \n",
      "_________________________________________________________________\n",
      "dense (Dense)                (None, 5)                 325       \n",
      "_________________________________________________________________\n",
      "activation (Activation)      (None, 5)                 0         \n",
      "=================================================================\n",
      "Total params: 15,941\n",
      "Trainable params: 15,941\n",
      "Non-trainable params: 0\n",
      "_________________________________________________________________\n"
     ]
    }
   ],
   "source": [
    "# TRAINING\n",
    "\n",
    "# USING SIMPLE RNN.\n",
    "\n",
    "model = Sequential()\n",
    "model.add(SimpleRNN(64, input_shape=(10,50), return_sequences=True))\n",
    "model.add(Dropout(0.5))\n",
    "model.add(SimpleRNN(64, return_sequences=False))\n",
    "model.add(Dropout(0.5))\n",
    "model.add(Dense(5))\n",
    "model.add(Activation('softmax'))\n",
    "\n",
    "model.summary()"
   ]
  },
  {
   "cell_type": "code",
   "execution_count": 23,
   "metadata": {},
   "outputs": [],
   "source": [
    "# Setting Loss and Optimiser for the model\n",
    "model.compile(loss='categorical_crossentropy', optimizer='adam', metrics=['accuracy'])"
   ]
  },
  {
   "cell_type": "code",
   "execution_count": 24,
   "metadata": {},
   "outputs": [
    {
     "name": "stdout",
     "output_type": "stream",
     "text": [
      "Epoch 1/50\n",
      "5/5 [==============================] - 0s 22ms/step - loss: 1.8663 - accuracy: 0.2121\n",
      "Epoch 2/50\n",
      "5/5 [==============================] - 0s 8ms/step - loss: 1.8443 - accuracy: 0.2197\n",
      "Epoch 3/50\n",
      "5/5 [==============================] - 0s 9ms/step - loss: 1.5859 - accuracy: 0.3258\n",
      "Epoch 4/50\n",
      "5/5 [==============================] - 0s 9ms/step - loss: 1.5945 - accuracy: 0.3561\n",
      "Epoch 5/50\n",
      "5/5 [==============================] - 0s 8ms/step - loss: 1.5796 - accuracy: 0.3333\n",
      "Epoch 6/50\n",
      "5/5 [==============================] - 0s 8ms/step - loss: 1.4665 - accuracy: 0.4091\n",
      "Epoch 7/50\n",
      "5/5 [==============================] - 0s 8ms/step - loss: 1.4035 - accuracy: 0.3939\n",
      "Epoch 8/50\n",
      "5/5 [==============================] - 0s 8ms/step - loss: 1.4028 - accuracy: 0.4015\n",
      "Epoch 9/50\n",
      "5/5 [==============================] - 0s 8ms/step - loss: 1.3416 - accuracy: 0.4242\n",
      "Epoch 10/50\n",
      "5/5 [==============================] - 0s 8ms/step - loss: 1.1901 - accuracy: 0.5530\n",
      "Epoch 11/50\n",
      "5/5 [==============================] - 0s 8ms/step - loss: 1.2673 - accuracy: 0.5000\n",
      "Epoch 12/50\n",
      "5/5 [==============================] - 0s 8ms/step - loss: 1.1135 - accuracy: 0.5606\n",
      "Epoch 13/50\n",
      "5/5 [==============================] - 0s 8ms/step - loss: 1.0923 - accuracy: 0.5606\n",
      "Epoch 14/50\n",
      "5/5 [==============================] - 0s 7ms/step - loss: 1.1383 - accuracy: 0.5227\n",
      "Epoch 15/50\n",
      "5/5 [==============================] - 0s 7ms/step - loss: 1.0732 - accuracy: 0.5758\n",
      "Epoch 16/50\n",
      "5/5 [==============================] - 0s 8ms/step - loss: 0.9914 - accuracy: 0.6288\n",
      "Epoch 17/50\n",
      "5/5 [==============================] - 0s 8ms/step - loss: 0.9636 - accuracy: 0.6818\n",
      "Epoch 18/50\n",
      "5/5 [==============================] - 0s 7ms/step - loss: 0.8432 - accuracy: 0.6970\n",
      "Epoch 19/50\n",
      "5/5 [==============================] - 0s 9ms/step - loss: 0.8105 - accuracy: 0.7348\n",
      "Epoch 20/50\n",
      "5/5 [==============================] - 0s 7ms/step - loss: 0.7560 - accuracy: 0.7121\n",
      "Epoch 21/50\n",
      "5/5 [==============================] - 0s 6ms/step - loss: 0.7106 - accuracy: 0.7500\n",
      "Epoch 22/50\n",
      "5/5 [==============================] - 0s 7ms/step - loss: 0.8299 - accuracy: 0.6818\n",
      "Epoch 23/50\n",
      "5/5 [==============================] - 0s 7ms/step - loss: 0.6537 - accuracy: 0.7500\n",
      "Epoch 24/50\n",
      "5/5 [==============================] - 0s 8ms/step - loss: 0.7857 - accuracy: 0.7273\n",
      "Epoch 25/50\n",
      "5/5 [==============================] - 0s 8ms/step - loss: 0.6285 - accuracy: 0.7500\n",
      "Epoch 26/50\n",
      "5/5 [==============================] - 0s 7ms/step - loss: 0.6384 - accuracy: 0.7652\n",
      "Epoch 27/50\n",
      "5/5 [==============================] - 0s 7ms/step - loss: 0.5941 - accuracy: 0.7955\n",
      "Epoch 28/50\n",
      "5/5 [==============================] - 0s 7ms/step - loss: 0.4728 - accuracy: 0.8561\n",
      "Epoch 29/50\n",
      "5/5 [==============================] - 0s 7ms/step - loss: 0.5086 - accuracy: 0.8182\n",
      "Epoch 30/50\n",
      "5/5 [==============================] - 0s 7ms/step - loss: 0.5326 - accuracy: 0.8182\n",
      "Epoch 31/50\n",
      "5/5 [==============================] - 0s 7ms/step - loss: 0.4110 - accuracy: 0.8561\n",
      "Epoch 32/50\n",
      "5/5 [==============================] - 0s 6ms/step - loss: 0.4461 - accuracy: 0.8485\n",
      "Epoch 33/50\n",
      "5/5 [==============================] - 0s 7ms/step - loss: 0.3908 - accuracy: 0.8788\n",
      "Epoch 34/50\n",
      "5/5 [==============================] - 0s 8ms/step - loss: 0.4175 - accuracy: 0.8864\n",
      "Epoch 35/50\n",
      "5/5 [==============================] - 0s 9ms/step - loss: 0.3766 - accuracy: 0.8636\n",
      "Epoch 36/50\n",
      "5/5 [==============================] - 0s 7ms/step - loss: 0.3447 - accuracy: 0.9091\n",
      "Epoch 37/50\n",
      "5/5 [==============================] - 0s 7ms/step - loss: 0.3515 - accuracy: 0.8712\n",
      "Epoch 38/50\n",
      "5/5 [==============================] - 0s 7ms/step - loss: 0.2767 - accuracy: 0.9318\n",
      "Epoch 39/50\n",
      "5/5 [==============================] - 0s 8ms/step - loss: 0.3121 - accuracy: 0.8939\n",
      "Epoch 40/50\n",
      "5/5 [==============================] - 0s 8ms/step - loss: 0.3491 - accuracy: 0.9167\n",
      "Epoch 41/50\n",
      "5/5 [==============================] - 0s 10ms/step - loss: 0.2242 - accuracy: 0.9545\n",
      "Epoch 42/50\n",
      "5/5 [==============================] - 0s 8ms/step - loss: 0.2203 - accuracy: 0.9545\n",
      "Epoch 43/50\n",
      "5/5 [==============================] - 0s 6ms/step - loss: 0.2245 - accuracy: 0.9394\n",
      "Epoch 44/50\n",
      "5/5 [==============================] - 0s 9ms/step - loss: 0.2084 - accuracy: 0.9621\n",
      "Epoch 45/50\n",
      "5/5 [==============================] - 0s 8ms/step - loss: 0.1843 - accuracy: 0.9545\n",
      "Epoch 46/50\n",
      "5/5 [==============================] - 0s 7ms/step - loss: 0.2017 - accuracy: 0.9621\n",
      "Epoch 47/50\n",
      "5/5 [==============================] - 0s 7ms/step - loss: 0.1676 - accuracy: 0.9848\n",
      "Epoch 48/50\n",
      "5/5 [==============================] - 0s 8ms/step - loss: 0.1493 - accuracy: 0.9773\n",
      "Epoch 49/50\n",
      "5/5 [==============================] - 0s 8ms/step - loss: 0.1904 - accuracy: 0.9545\n",
      "Epoch 50/50\n",
      "5/5 [==============================] - 0s 9ms/step - loss: 0.1376 - accuracy: 0.9773\n"
     ]
    }
   ],
   "source": [
    "# Training of the model and Setting hyperparameters for the model\n",
    "hist = model.fit(embedding_matrix_train,Y_train,\n",
    "                epochs = 50, batch_size=32,shuffle=True\n",
    "                )"
   ]
  },
  {
   "cell_type": "code",
   "execution_count": 25,
   "metadata": {},
   "outputs": [
    {
     "name": "stdout",
     "output_type": "stream",
     "text": [
      "WARNING:tensorflow:From <ipython-input-25-2457f949f644>:2: Sequential.predict_classes (from tensorflow.python.keras.engine.sequential) is deprecated and will be removed after 2021-01-01.\n",
      "Instructions for updating:\n",
      "Please use instead:* `np.argmax(model.predict(x), axis=-1)`,   if your model does multi-class classification   (e.g. if it uses a `softmax` last-layer activation).* `(model.predict(x) > 0.5).astype(\"int32\")`,   if your model does binary classification   (e.g. if it uses a `sigmoid` last-layer activation).\n"
     ]
    }
   ],
   "source": [
    "# Prediction of the trained model \n",
    "pred = model.predict_classes(embedding_matrix_test)"
   ]
  },
  {
   "cell_type": "code",
   "execution_count": 32,
   "metadata": {},
   "outputs": [
    {
     "data": {
      "text/plain": [
       "0.6071428571428571"
      ]
     },
     "execution_count": 32,
     "metadata": {},
     "output_type": "execute_result"
    }
   ],
   "source": [
    "# accuracy\n",
    "#model.evaluate(embedding_matrix_test,Y_test)\n",
    "\n",
    "float(sum(pred==Y_test))/embedding_matrix_test.shape[0]"
   ]
  },
  {
   "cell_type": "code",
   "execution_count": 36,
   "metadata": {},
   "outputs": [
    {
     "name": "stdout",
     "output_type": "stream",
     "text": [
      "['he', 'got', 'a', 'raise'] ❤  😄\n",
      "\n",
      "\n",
      "['he', 'is', 'a', 'good', 'friend'] 😄  ❤\n",
      "\n",
      "\n",
      "['I', 'am', 'upset'] 😞  ❤\n",
      "\n",
      "\n",
      "['We', 'had', 'such', 'a', 'lovely', 'dinner', 'tonight'] 🍴  ❤\n",
      "\n",
      "\n",
      "['This', 'girl', 'is', 'messing', 'with', 'me'] 😄  😞\n",
      "\n",
      "\n",
      "['are', 'you', 'serious', 'ha', 'ha'] 😞  😄\n",
      "\n",
      "\n",
      "['stop', 'messing', 'around'] ⚾  😞\n",
      "\n",
      "\n",
      "['you', 'brighten', 'my', 'day'] 🍴  😄\n",
      "\n",
      "\n",
      "['I', 'worked', 'during', 'my', 'birthday'] 🍴  😞\n",
      "\n",
      "\n",
      "['enjoy', 'your', 'break'] 😞  😄\n",
      "\n",
      "\n",
      "['valentine', 'day', 'is', 'near'] 😄  ❤\n",
      "\n",
      "\n",
      "['My', 'life', 'is', 'so', 'boring'] 😄  😞\n",
      "\n",
      "\n",
      "['he', 'can', 'pitch', 'really', 'well'] 😞  ⚾\n",
      "\n",
      "\n",
      "['I', 'like', 'your', 'jacket'] ❤  😄\n",
      "\n",
      "\n",
      "['I', 'love', 'to', 'the', 'stars', 'and', 'back'] ⚾  ❤\n",
      "\n",
      "\n",
      "['What', 'you', 'did', 'was', 'awesome'] 😞  😄\n",
      "\n",
      "\n",
      "['I', 'want', 'to', 'joke'] ❤  😄\n",
      "\n",
      "\n",
      "['go', 'away'] ⚾  😞\n",
      "\n",
      "\n",
      "['yesterday', 'we', 'lost', 'again'] ⚾  😞\n",
      "\n",
      "\n",
      "['family', 'is', 'all', 'I', 'have'] 😞  ❤\n",
      "\n",
      "\n",
      "['You', 'totally', 'deserve', 'this', 'prize'] 🍴  😄\n",
      "\n",
      "\n",
      "['I', 'did', 'not', 'have', 'breakfast'] 🍴  😞\n",
      "\n",
      "\n"
     ]
    }
   ],
   "source": [
    "# predicting the sentences (outputting the labeled and predicted emojis)\n",
    "\n",
    "for ix in range(embedding_matrix_test.shape[0]):\n",
    "    \n",
    "    if pred[ix] != Y_test[ix]:\n",
    "        #print(ix)\n",
    "        print (test[0][ix],end=\" \")\n",
    "        print (emoji.emojize(emoji_dict[pred[ix]], use_aliases=True),end=\"  \")\n",
    "        print (emoji.emojize(emoji_dict[Y_test[ix]], use_aliases=True))\n",
    "        print(\"\\n\")"
   ]
  },
  {
   "cell_type": "code",
   "execution_count": 37,
   "metadata": {},
   "outputs": [],
   "source": [
    "# Predicting for our random sentence\n",
    "x = ['i', 'do', 'think','this', 'class', 'is', 'very', 'interesting']\n",
    "\n",
    "x_ = np.zeros((1,10,50))\n",
    "\n",
    "for ix in range(len(x)):\n",
    "    x_[0][ix] = embeddings_index[x[ix].lower()]\n"
   ]
  },
  {
   "cell_type": "code",
   "execution_count": 38,
   "metadata": {},
   "outputs": [
    {
     "data": {
      "text/plain": [
       "array([0], dtype=int64)"
      ]
     },
     "execution_count": 38,
     "metadata": {},
     "output_type": "execute_result"
    }
   ],
   "source": [
    "model.predict_classes(x_)"
   ]
  },
  {
   "cell_type": "code",
   "execution_count": 39,
   "metadata": {},
   "outputs": [
    {
     "name": "stdout",
     "output_type": "stream",
     "text": [
      "Model: \"sequential_1\"\n",
      "_________________________________________________________________\n",
      "Layer (type)                 Output Shape              Param #   \n",
      "=================================================================\n",
      "lstm (LSTM)                  (None, 10, 128)           91648     \n",
      "_________________________________________________________________\n",
      "dropout_2 (Dropout)          (None, 10, 128)           0         \n",
      "_________________________________________________________________\n",
      "lstm_1 (LSTM)                (None, 128)               131584    \n",
      "_________________________________________________________________\n",
      "dropout_3 (Dropout)          (None, 128)               0         \n",
      "_________________________________________________________________\n",
      "dense_1 (Dense)              (None, 5)                 645       \n",
      "_________________________________________________________________\n",
      "activation_1 (Activation)    (None, 5)                 0         \n",
      "=================================================================\n",
      "Total params: 223,877\n",
      "Trainable params: 223,877\n",
      "Non-trainable params: 0\n",
      "_________________________________________________________________\n"
     ]
    }
   ],
   "source": [
    "# using stacked LSTM.\n",
    "\n",
    "model = Sequential()\n",
    "model.add(LSTM(128, input_shape=(10,50), return_sequences=True))\n",
    "model.add(Dropout(0.5))\n",
    "model.add(LSTM(128, return_sequences=False))\n",
    "model.add(Dropout(0.5))\n",
    "model.add(Dense(5))\n",
    "model.add(Activation('softmax'))\n",
    "\n",
    "model.summary()"
   ]
  },
  {
   "cell_type": "code",
   "execution_count": 44,
   "metadata": {},
   "outputs": [
    {
     "name": "stdout",
     "output_type": "stream",
     "text": [
      "Epoch 1/150\n",
      "5/5 [==============================] - 0s 24ms/step - loss: 0.1411 - accuracy: 0.9470\n",
      "Epoch 2/150\n",
      "5/5 [==============================] - 0s 25ms/step - loss: 0.0731 - accuracy: 0.9848\n",
      "Epoch 3/150\n",
      "5/5 [==============================] - 0s 26ms/step - loss: 0.0562 - accuracy: 0.9773\n",
      "Epoch 4/150\n",
      "5/5 [==============================] - 0s 22ms/step - loss: 0.0382 - accuracy: 0.9848\n",
      "Epoch 5/150\n",
      "5/5 [==============================] - 0s 22ms/step - loss: 0.0235 - accuracy: 1.0000\n",
      "Epoch 6/150\n",
      "5/5 [==============================] - 0s 21ms/step - loss: 0.0232 - accuracy: 0.9924\n",
      "Epoch 7/150\n",
      "5/5 [==============================] - 0s 24ms/step - loss: 0.0095 - accuracy: 1.0000\n",
      "Epoch 8/150\n",
      "5/5 [==============================] - 0s 23ms/step - loss: 0.0090 - accuracy: 1.0000\n",
      "Epoch 9/150\n",
      "5/5 [==============================] - 0s 24ms/step - loss: 0.0092 - accuracy: 1.0000\n",
      "Epoch 10/150\n",
      "5/5 [==============================] - 0s 23ms/step - loss: 0.0035 - accuracy: 1.0000\n",
      "Epoch 11/150\n",
      "5/5 [==============================] - 0s 22ms/step - loss: 0.0087 - accuracy: 0.9924\n",
      "Epoch 12/150\n",
      "5/5 [==============================] - 0s 23ms/step - loss: 0.0032 - accuracy: 1.0000\n",
      "Epoch 13/150\n",
      "5/5 [==============================] - 0s 21ms/step - loss: 0.0031 - accuracy: 1.0000\n",
      "Epoch 14/150\n",
      "5/5 [==============================] - 0s 23ms/step - loss: 0.0038 - accuracy: 1.0000\n",
      "Epoch 15/150\n",
      "5/5 [==============================] - 0s 22ms/step - loss: 0.0018 - accuracy: 1.0000\n",
      "Epoch 16/150\n",
      "5/5 [==============================] - 0s 22ms/step - loss: 0.0018 - accuracy: 1.0000\n",
      "Epoch 17/150\n",
      "5/5 [==============================] - 0s 22ms/step - loss: 0.0013 - accuracy: 1.0000\n",
      "Epoch 18/150\n",
      "5/5 [==============================] - 0s 22ms/step - loss: 0.0013 - accuracy: 1.0000\n",
      "Epoch 19/150\n",
      "5/5 [==============================] - 0s 18ms/step - loss: 0.0014 - accuracy: 1.0000\n",
      "Epoch 20/150\n",
      "5/5 [==============================] - 0s 21ms/step - loss: 5.8868e-04 - accuracy: 1.0000\n",
      "Epoch 21/150\n",
      "5/5 [==============================] - 0s 22ms/step - loss: 7.4561e-04 - accuracy: 1.0000\n",
      "Epoch 22/150\n",
      "5/5 [==============================] - 0s 21ms/step - loss: 0.0012 - accuracy: 1.0000\n",
      "Epoch 23/150\n",
      "5/5 [==============================] - 0s 21ms/step - loss: 7.8293e-04 - accuracy: 1.0000\n",
      "Epoch 24/150\n",
      "5/5 [==============================] - 0s 21ms/step - loss: 8.7571e-04 - accuracy: 1.0000\n",
      "Epoch 25/150\n",
      "5/5 [==============================] - 0s 22ms/step - loss: 9.0221e-04 - accuracy: 1.0000\n",
      "Epoch 26/150\n",
      "5/5 [==============================] - 0s 23ms/step - loss: 5.9465e-04 - accuracy: 1.0000\n",
      "Epoch 27/150\n",
      "5/5 [==============================] - 0s 19ms/step - loss: 6.3596e-04 - accuracy: 1.0000\n",
      "Epoch 28/150\n",
      "5/5 [==============================] - 0s 21ms/step - loss: 7.2086e-04 - accuracy: 1.0000\n",
      "Epoch 29/150\n",
      "5/5 [==============================] - 0s 22ms/step - loss: 6.7059e-04 - accuracy: 1.0000\n",
      "Epoch 30/150\n",
      "5/5 [==============================] - 0s 21ms/step - loss: 9.5767e-04 - accuracy: 1.0000\n",
      "Epoch 31/150\n",
      "5/5 [==============================] - 0s 22ms/step - loss: 6.7612e-04 - accuracy: 1.0000\n",
      "Epoch 32/150\n",
      "5/5 [==============================] - 0s 21ms/step - loss: 4.4561e-04 - accuracy: 1.0000\n",
      "Epoch 33/150\n",
      "5/5 [==============================] - 0s 21ms/step - loss: 6.8396e-04 - accuracy: 1.0000\n",
      "Epoch 34/150\n",
      "5/5 [==============================] - 0s 22ms/step - loss: 6.3625e-04 - accuracy: 1.0000\n",
      "Epoch 35/150\n",
      "5/5 [==============================] - 0s 20ms/step - loss: 8.0326e-04 - accuracy: 1.0000\n",
      "Epoch 36/150\n",
      "5/5 [==============================] - 0s 23ms/step - loss: 4.8038e-04 - accuracy: 1.0000\n",
      "Epoch 37/150\n",
      "5/5 [==============================] - 0s 21ms/step - loss: 6.0122e-04 - accuracy: 1.0000\n",
      "Epoch 38/150\n",
      "5/5 [==============================] - 0s 22ms/step - loss: 5.1582e-04 - accuracy: 1.0000\n",
      "Epoch 39/150\n",
      "5/5 [==============================] - 0s 21ms/step - loss: 4.2438e-04 - accuracy: 1.0000\n",
      "Epoch 40/150\n",
      "5/5 [==============================] - 0s 22ms/step - loss: 5.2949e-04 - accuracy: 1.0000\n",
      "Epoch 41/150\n",
      "5/5 [==============================] - 0s 21ms/step - loss: 3.5425e-04 - accuracy: 1.0000\n",
      "Epoch 42/150\n",
      "5/5 [==============================] - 0s 23ms/step - loss: 3.7712e-04 - accuracy: 1.0000\n",
      "Epoch 43/150\n",
      "5/5 [==============================] - 0s 20ms/step - loss: 4.3326e-04 - accuracy: 1.0000\n",
      "Epoch 44/150\n",
      "5/5 [==============================] - 0s 14ms/step - loss: 3.7058e-04 - accuracy: 1.0000\n",
      "Epoch 45/150\n",
      "5/5 [==============================] - 0s 16ms/step - loss: 4.0512e-04 - accuracy: 1.0000\n",
      "Epoch 46/150\n",
      "5/5 [==============================] - 0s 21ms/step - loss: 5.9598e-04 - accuracy: 1.0000\n",
      "Epoch 47/150\n",
      "5/5 [==============================] - 0s 22ms/step - loss: 4.8727e-04 - accuracy: 1.0000\n",
      "Epoch 48/150\n",
      "5/5 [==============================] - 0s 21ms/step - loss: 3.5961e-04 - accuracy: 1.0000\n",
      "Epoch 49/150\n",
      "5/5 [==============================] - 0s 22ms/step - loss: 2.4001e-04 - accuracy: 1.0000\n",
      "Epoch 50/150\n",
      "5/5 [==============================] - 0s 23ms/step - loss: 2.9427e-04 - accuracy: 1.0000\n",
      "Epoch 51/150\n",
      "5/5 [==============================] - 0s 30ms/step - loss: 5.0612e-04 - accuracy: 1.0000\n",
      "Epoch 52/150\n",
      "5/5 [==============================] - 0s 18ms/step - loss: 3.5226e-04 - accuracy: 1.0000\n",
      "Epoch 53/150\n",
      "5/5 [==============================] - 0s 22ms/step - loss: 2.7256e-04 - accuracy: 1.0000\n",
      "Epoch 54/150\n",
      "5/5 [==============================] - 0s 22ms/step - loss: 3.6417e-04 - accuracy: 1.0000\n",
      "Epoch 55/150\n",
      "5/5 [==============================] - 0s 20ms/step - loss: 3.3239e-04 - accuracy: 1.0000\n",
      "Epoch 56/150\n",
      "5/5 [==============================] - 0s 22ms/step - loss: 2.0428e-04 - accuracy: 1.0000\n",
      "Epoch 57/150\n",
      "5/5 [==============================] - 0s 23ms/step - loss: 2.4475e-04 - accuracy: 1.0000\n",
      "Epoch 58/150\n",
      "5/5 [==============================] - 0s 22ms/step - loss: 2.1463e-04 - accuracy: 1.0000\n",
      "Epoch 59/150\n",
      "5/5 [==============================] - 0s 26ms/step - loss: 1.9196e-04 - accuracy: 1.0000\n",
      "Epoch 60/150\n",
      "5/5 [==============================] - 0s 19ms/step - loss: 3.1402e-04 - accuracy: 1.0000\n",
      "Epoch 61/150\n",
      "5/5 [==============================] - 0s 21ms/step - loss: 2.3743e-04 - accuracy: 1.0000\n",
      "Epoch 62/150\n",
      "5/5 [==============================] - 0s 21ms/step - loss: 2.1740e-04 - accuracy: 1.0000\n",
      "Epoch 63/150\n",
      "5/5 [==============================] - 0s 22ms/step - loss: 2.2334e-04 - accuracy: 1.0000\n",
      "Epoch 64/150\n",
      "5/5 [==============================] - 0s 23ms/step - loss: 2.5925e-04 - accuracy: 1.0000\n",
      "Epoch 65/150\n",
      "5/5 [==============================] - 0s 23ms/step - loss: 2.2842e-04 - accuracy: 1.0000\n",
      "Epoch 66/150\n",
      "5/5 [==============================] - 0s 23ms/step - loss: 2.1761e-04 - accuracy: 1.0000\n",
      "Epoch 67/150\n",
      "5/5 [==============================] - 0s 23ms/step - loss: 1.8996e-04 - accuracy: 1.0000\n",
      "Epoch 68/150\n",
      "5/5 [==============================] - 0s 22ms/step - loss: 2.4488e-04 - accuracy: 1.0000\n",
      "Epoch 69/150\n",
      "5/5 [==============================] - 0s 21ms/step - loss: 2.7392e-04 - accuracy: 1.0000\n",
      "Epoch 70/150\n",
      "5/5 [==============================] - 0s 22ms/step - loss: 1.8693e-04 - accuracy: 1.0000\n",
      "Epoch 71/150\n",
      "5/5 [==============================] - 0s 23ms/step - loss: 2.2122e-04 - accuracy: 1.0000\n",
      "Epoch 72/150\n",
      "5/5 [==============================] - 0s 21ms/step - loss: 2.4622e-04 - accuracy: 1.0000\n",
      "Epoch 73/150\n",
      "5/5 [==============================] - 0s 22ms/step - loss: 2.1915e-04 - accuracy: 1.0000\n",
      "Epoch 74/150\n",
      "5/5 [==============================] - 0s 21ms/step - loss: 4.6039e-04 - accuracy: 1.0000\n",
      "Epoch 75/150\n",
      "5/5 [==============================] - 0s 21ms/step - loss: 1.2977e-04 - accuracy: 1.0000\n",
      "Epoch 76/150\n",
      "5/5 [==============================] - 0s 19ms/step - loss: 2.9263e-04 - accuracy: 1.0000\n",
      "Epoch 77/150\n",
      "5/5 [==============================] - 0s 23ms/step - loss: 2.1377e-04 - accuracy: 1.0000\n",
      "Epoch 78/150\n",
      "5/5 [==============================] - 0s 23ms/step - loss: 1.3554e-04 - accuracy: 1.0000\n",
      "Epoch 79/150\n",
      "5/5 [==============================] - 0s 22ms/step - loss: 2.3699e-04 - accuracy: 1.0000\n",
      "Epoch 80/150\n",
      "5/5 [==============================] - 0s 22ms/step - loss: 1.5092e-04 - accuracy: 1.0000\n",
      "Epoch 81/150\n"
     ]
    },
    {
     "name": "stdout",
     "output_type": "stream",
     "text": [
      "5/5 [==============================] - 0s 23ms/step - loss: 1.7831e-04 - accuracy: 1.0000\n",
      "Epoch 82/150\n",
      "5/5 [==============================] - 0s 21ms/step - loss: 1.2911e-04 - accuracy: 1.0000\n",
      "Epoch 83/150\n",
      "5/5 [==============================] - 0s 21ms/step - loss: 1.4320e-04 - accuracy: 1.0000\n",
      "Epoch 84/150\n",
      "5/5 [==============================] - 0s 20ms/step - loss: 1.0370e-04 - accuracy: 1.0000\n",
      "Epoch 85/150\n",
      "5/5 [==============================] - 0s 23ms/step - loss: 1.6991e-04 - accuracy: 1.0000\n",
      "Epoch 86/150\n",
      "5/5 [==============================] - 0s 21ms/step - loss: 2.3218e-04 - accuracy: 1.0000\n",
      "Epoch 87/150\n",
      "5/5 [==============================] - 0s 22ms/step - loss: 1.7935e-04 - accuracy: 1.0000\n",
      "Epoch 88/150\n",
      "5/5 [==============================] - 0s 21ms/step - loss: 1.2182e-04 - accuracy: 1.0000\n",
      "Epoch 89/150\n",
      "5/5 [==============================] - 0s 21ms/step - loss: 2.7005e-04 - accuracy: 1.0000\n",
      "Epoch 90/150\n",
      "5/5 [==============================] - 0s 23ms/step - loss: 2.3994e-04 - accuracy: 1.0000\n",
      "Epoch 91/150\n",
      "5/5 [==============================] - 0s 25ms/step - loss: 2.0050e-04 - accuracy: 1.0000\n",
      "Epoch 92/150\n",
      "5/5 [==============================] - 0s 19ms/step - loss: 1.6492e-04 - accuracy: 1.0000\n",
      "Epoch 93/150\n",
      "5/5 [==============================] - 0s 23ms/step - loss: 9.9628e-05 - accuracy: 1.0000\n",
      "Epoch 94/150\n",
      "5/5 [==============================] - 0s 24ms/step - loss: 1.1210e-04 - accuracy: 1.0000\n",
      "Epoch 95/150\n",
      "5/5 [==============================] - 0s 22ms/step - loss: 1.6671e-04 - accuracy: 1.0000\n",
      "Epoch 96/150\n",
      "5/5 [==============================] - 0s 21ms/step - loss: 1.4630e-04 - accuracy: 1.0000\n",
      "Epoch 97/150\n",
      "5/5 [==============================] - 0s 21ms/step - loss: 1.9295e-04 - accuracy: 1.0000\n",
      "Epoch 98/150\n",
      "5/5 [==============================] - 0s 21ms/step - loss: 1.1281e-04 - accuracy: 1.0000\n",
      "Epoch 99/150\n",
      "5/5 [==============================] - 0s 21ms/step - loss: 2.4048e-04 - accuracy: 1.0000\n",
      "Epoch 100/150\n",
      "5/5 [==============================] - 0s 20ms/step - loss: 1.4440e-04 - accuracy: 1.0000\n",
      "Epoch 101/150\n",
      "5/5 [==============================] - 0s 21ms/step - loss: 1.1653e-04 - accuracy: 1.0000\n",
      "Epoch 102/150\n",
      "5/5 [==============================] - 0s 21ms/step - loss: 1.1888e-04 - accuracy: 1.0000\n",
      "Epoch 103/150\n",
      "5/5 [==============================] - 0s 22ms/step - loss: 1.1339e-04 - accuracy: 1.0000\n",
      "Epoch 104/150\n",
      "5/5 [==============================] - 0s 22ms/step - loss: 1.2029e-04 - accuracy: 1.0000\n",
      "Epoch 105/150\n",
      "5/5 [==============================] - 0s 21ms/step - loss: 1.4029e-04 - accuracy: 1.0000\n",
      "Epoch 106/150\n",
      "5/5 [==============================] - 0s 22ms/step - loss: 1.1656e-04 - accuracy: 1.0000\n",
      "Epoch 107/150\n",
      "5/5 [==============================] - 0s 23ms/step - loss: 1.3437e-04 - accuracy: 1.0000\n",
      "Epoch 108/150\n",
      "5/5 [==============================] - 0s 20ms/step - loss: 1.0901e-04 - accuracy: 1.0000\n",
      "Epoch 109/150\n",
      "5/5 [==============================] - 0s 22ms/step - loss: 1.1206e-04 - accuracy: 1.0000\n",
      "Epoch 110/150\n",
      "5/5 [==============================] - 0s 22ms/step - loss: 1.3571e-04 - accuracy: 1.0000\n",
      "Epoch 111/150\n",
      "5/5 [==============================] - 0s 22ms/step - loss: 1.3597e-04 - accuracy: 1.0000\n",
      "Epoch 112/150\n",
      "5/5 [==============================] - 0s 22ms/step - loss: 1.0946e-04 - accuracy: 1.0000\n",
      "Epoch 113/150\n",
      "5/5 [==============================] - 0s 21ms/step - loss: 1.2960e-04 - accuracy: 1.0000\n",
      "Epoch 114/150\n",
      "5/5 [==============================] - 0s 22ms/step - loss: 9.3362e-05 - accuracy: 1.0000\n",
      "Epoch 115/150\n",
      "5/5 [==============================] - 0s 24ms/step - loss: 1.8011e-04 - accuracy: 1.0000\n",
      "Epoch 116/150\n",
      "5/5 [==============================] - 0s 18ms/step - loss: 1.0413e-04 - accuracy: 1.0000\n",
      "Epoch 117/150\n",
      "5/5 [==============================] - 0s 22ms/step - loss: 8.8906e-05 - accuracy: 1.0000\n",
      "Epoch 118/150\n",
      "5/5 [==============================] - 0s 23ms/step - loss: 1.1096e-04 - accuracy: 1.0000\n",
      "Epoch 119/150\n",
      "5/5 [==============================] - 0s 21ms/step - loss: 8.6590e-05 - accuracy: 1.0000\n",
      "Epoch 120/150\n",
      "5/5 [==============================] - 0s 21ms/step - loss: 8.8884e-05 - accuracy: 1.0000\n",
      "Epoch 121/150\n",
      "5/5 [==============================] - 0s 22ms/step - loss: 2.0776e-04 - accuracy: 1.0000\n",
      "Epoch 122/150\n",
      "5/5 [==============================] - 0s 21ms/step - loss: 6.3393e-05 - accuracy: 1.0000\n",
      "Epoch 123/150\n",
      "5/5 [==============================] - 0s 24ms/step - loss: 9.1381e-05 - accuracy: 1.0000\n",
      "Epoch 124/150\n",
      "5/5 [==============================] - 0s 19ms/step - loss: 7.3637e-05 - accuracy: 1.0000\n",
      "Epoch 125/150\n",
      "5/5 [==============================] - 0s 21ms/step - loss: 9.6212e-05 - accuracy: 1.0000\n",
      "Epoch 126/150\n",
      "5/5 [==============================] - 0s 24ms/step - loss: 1.0421e-04 - accuracy: 1.0000\n",
      "Epoch 127/150\n",
      "5/5 [==============================] - 0s 22ms/step - loss: 9.5907e-05 - accuracy: 1.0000\n",
      "Epoch 128/150\n",
      "5/5 [==============================] - 0s 23ms/step - loss: 1.0886e-04 - accuracy: 1.0000\n",
      "Epoch 129/150\n",
      "5/5 [==============================] - 0s 21ms/step - loss: 9.2239e-05 - accuracy: 1.0000\n",
      "Epoch 130/150\n",
      "5/5 [==============================] - 0s 23ms/step - loss: 7.5348e-05 - accuracy: 1.0000\n",
      "Epoch 131/150\n",
      "5/5 [==============================] - 0s 26ms/step - loss: 1.4535e-04 - accuracy: 1.0000\n",
      "Epoch 132/150\n",
      "5/5 [==============================] - 0s 23ms/step - loss: 9.6221e-05 - accuracy: 1.0000\n",
      "Epoch 133/150\n",
      "5/5 [==============================] - 0s 23ms/step - loss: 9.0568e-05 - accuracy: 1.0000\n",
      "Epoch 134/150\n",
      "5/5 [==============================] - 0s 23ms/step - loss: 9.8299e-05 - accuracy: 1.0000\n",
      "Epoch 135/150\n",
      "5/5 [==============================] - 0s 21ms/step - loss: 1.0013e-04 - accuracy: 1.0000\n",
      "Epoch 136/150\n",
      "5/5 [==============================] - 0s 21ms/step - loss: 7.1897e-05 - accuracy: 1.0000\n",
      "Epoch 137/150\n",
      "5/5 [==============================] - 0s 21ms/step - loss: 6.7154e-05 - accuracy: 1.0000\n",
      "Epoch 138/150\n",
      "5/5 [==============================] - 0s 21ms/step - loss: 5.9680e-05 - accuracy: 1.0000\n",
      "Epoch 139/150\n",
      "5/5 [==============================] - 0s 22ms/step - loss: 4.4378e-05 - accuracy: 1.0000\n",
      "Epoch 140/150\n",
      "5/5 [==============================] - 0s 18ms/step - loss: 1.0202e-04 - accuracy: 1.0000\n",
      "Epoch 141/150\n",
      "5/5 [==============================] - 0s 24ms/step - loss: 7.2454e-05 - accuracy: 1.0000\n",
      "Epoch 142/150\n",
      "5/5 [==============================] - 0s 24ms/step - loss: 1.2144e-04 - accuracy: 1.0000\n",
      "Epoch 143/150\n",
      "5/5 [==============================] - 0s 24ms/step - loss: 9.5634e-05 - accuracy: 1.0000\n",
      "Epoch 144/150\n",
      "5/5 [==============================] - 0s 21ms/step - loss: 1.2059e-04 - accuracy: 1.0000\n",
      "Epoch 145/150\n",
      "5/5 [==============================] - 0s 21ms/step - loss: 6.9343e-05 - accuracy: 1.0000\n",
      "Epoch 146/150\n",
      "5/5 [==============================] - 0s 21ms/step - loss: 5.2908e-05 - accuracy: 1.0000\n",
      "Epoch 147/150\n",
      "5/5 [==============================] - 0s 21ms/step - loss: 6.0887e-05 - accuracy: 1.0000\n",
      "Epoch 148/150\n",
      "5/5 [==============================] - 0s 21ms/step - loss: 8.9419e-05 - accuracy: 1.0000\n",
      "Epoch 149/150\n",
      "5/5 [==============================] - 0s 21ms/step - loss: 4.1653e-05 - accuracy: 1.0000\n",
      "Epoch 150/150\n",
      "5/5 [==============================] - 0s 21ms/step - loss: 8.3709e-05 - accuracy: 1.0000\n"
     ]
    }
   ],
   "source": [
    "# Setting Loss ,Optimiser for model\n",
    "model.compile(loss='categorical_crossentropy', optimizer='adam', metrics=['accuracy'])\n",
    "\n",
    "# Training model\n",
    "hist = model.fit(embedding_matrix_train,Y_train,\n",
    "                epochs = 150, batch_size=32,shuffle=True\n",
    "                )"
   ]
  },
  {
   "cell_type": "code",
   "execution_count": 45,
   "metadata": {},
   "outputs": [
    {
     "data": {
      "text/plain": [
       "0.6428571428571429"
      ]
     },
     "execution_count": 45,
     "metadata": {},
     "output_type": "execute_result"
    }
   ],
   "source": [
    "# Prediction of trained model\n",
    "pred = model.predict_classes(embedding_matrix_test)\n",
    "\n",
    "\n",
    "# Calculating accuracy / score  of the model\n",
    "float(sum(pred==Y_test))/embedding_matrix_test.shape[0]"
   ]
  },
  {
   "cell_type": "code",
   "execution_count": 47,
   "metadata": {},
   "outputs": [
    {
     "name": "stdout",
     "output_type": "stream",
     "text": [
      "['he', 'got', 'a', 'raise'] 😞  😄\n",
      "\n",
      "\n",
      "['he', 'is', 'a', 'good', 'friend'] 😄  ❤\n",
      "\n",
      "\n",
      "['I', 'am', 'upset'] 😞  ❤\n",
      "\n",
      "\n",
      "['We', 'had', 'such', 'a', 'lovely', 'dinner', 'tonight'] 😄  ❤\n",
      "\n",
      "\n",
      "['work', 'is', 'hard'] 😄  😞\n",
      "\n",
      "\n",
      "['This', 'girl', 'is', 'messing', 'with', 'me'] ❤  😞\n",
      "\n",
      "\n",
      "['are', 'you', 'serious', 'ha', 'ha'] 😞  😄\n",
      "\n",
      "\n",
      "['any', 'suggestions', 'for', 'dinner'] 😄  🍴\n",
      "\n",
      "\n",
      "['you', 'brighten', 'my', 'day'] ❤  😄\n",
      "\n",
      "\n",
      "['she', 'is', 'a', 'bully'] ❤  😞\n",
      "\n",
      "\n",
      "['I', 'worked', 'during', 'my', 'birthday'] 😄  😞\n",
      "\n",
      "\n",
      "['enjoy', 'your', 'break'] ⚾  😄\n",
      "\n",
      "\n",
      "['valentine', 'day', 'is', 'near'] 😄  ❤\n",
      "\n",
      "\n",
      "['will', 'you', 'be', 'my', 'valentine'] 😄  ❤\n",
      "\n",
      "\n",
      "['I', 'will', 'go', 'dance'] ⚾  😄\n",
      "\n",
      "\n",
      "['I', 'like', 'your', 'jacket'] ❤  😄\n",
      "\n",
      "\n",
      "['I', 'want', 'to', 'joke'] 😞  😄\n",
      "\n",
      "\n",
      "['go', 'away'] ⚾  😞\n",
      "\n",
      "\n",
      "['You', 'totally', 'deserve', 'this', 'prize'] 😞  😄\n",
      "\n",
      "\n",
      "['I', 'did', 'not', 'have', 'breakfast'] ❤  😞\n",
      "\n",
      "\n"
     ]
    }
   ],
   "source": [
    "# Printing the sentences with the predicted and the labelled emoji\n",
    "for ix in range(embedding_matrix_test.shape[0]):\n",
    "    \n",
    "    if pred[ix] != Y_test[ix]:\n",
    "        #print(ix)\n",
    "        print (test[0][ix],end=\" \")\n",
    "        print (emoji.emojize(emoji_dict[pred[ix]], use_aliases=True),end=\"  \")\n",
    "        print (emoji.emojize(emoji_dict[Y_test[ix]], use_aliases=True))\n",
    "        print(\"\\n\")"
   ]
  },
  {
   "cell_type": "code",
   "execution_count": null,
   "metadata": {},
   "outputs": [],
   "source": []
  }
 ],
 "metadata": {
  "kernelspec": {
   "display_name": "Python 3",
   "language": "python",
   "name": "python3"
  },
  "language_info": {
   "codemirror_mode": {
    "name": "ipython",
    "version": 3
   },
   "file_extension": ".py",
   "mimetype": "text/x-python",
   "name": "python",
   "nbconvert_exporter": "python",
   "pygments_lexer": "ipython3",
   "version": "3.7.3"
  }
 },
 "nbformat": 4,
 "nbformat_minor": 2
}
